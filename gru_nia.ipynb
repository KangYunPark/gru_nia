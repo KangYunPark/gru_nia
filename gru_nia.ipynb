{
  "nbformat": 4,
  "nbformat_minor": 0,
  "metadata": {
    "colab": {
      "provenance": [],
      "collapsed_sections": [],
      "machine_shape": "hm"
    },
    "kernelspec": {
      "name": "python3",
      "display_name": "Python 3"
    },
    "language_info": {
      "name": "python"
    },
    "accelerator": "GPU"
  },
  "cells": [
    {
      "cell_type": "code",
      "execution_count": null,
      "metadata": {
        "id": "ZsfdYl1WRdWB"
      },
      "outputs": [],
      "source": [
        "#기본적인 패키지 가져오기\n",
        "import pandas as pd\n",
        "import numpy as np\n",
        "import tensorflow\n",
        "import sklearn\n",
        "import matplotlib.pyplot as plt\n",
        "import seaborn as sns"
      ]
    },
    {
      "cell_type": "code",
      "source": [
        "#데이터 로드\n",
        "data = pd.read_excel('/content/drive/MyDrive/Dobbys/data.xlsx')"
      ],
      "metadata": {
        "id": "hGbomQRNTqub"
      },
      "execution_count": null,
      "outputs": []
    },
    {
      "cell_type": "code",
      "source": [
        "#데이터 체킹 -> 컬럼 중 필요 없는 거 삭제 작업 진행\n",
        "data.head()"
      ],
      "metadata": {
        "colab": {
          "base_uri": "https://localhost:8080/",
          "height": 206
        },
        "id": "_efUiJ7DTvgo",
        "outputId": "c60d3d9b-10d7-4c3f-e06d-fd84a475b033"
      },
      "execution_count": null,
      "outputs": [
        {
          "output_type": "execute_result",
          "data": {
            "text/plain": [
              "                   Sentence Emotion  Unnamed: 2  Unnamed: 3  Unnamed: 4  공포  \\\n",
              "0  언니 동생으로 부르는게 맞는 일인가요..??      공포         NaN         NaN         NaN  놀람   \n",
              "1              그냥 내 느낌일뿐겠지?      공포         NaN         NaN         NaN  분노   \n",
              "2            아직너무초기라서 그런거죠?      공포         NaN         NaN         NaN  슬픔   \n",
              "3             유치원버스 사고 낫다던데      공포         NaN         NaN         NaN  중립   \n",
              "4               근데 원래이런거맞나요      공포         NaN         NaN         NaN  행복   \n",
              "\n",
              "     5468  \n",
              "0  5898.0  \n",
              "1  5665.0  \n",
              "2  5267.0  \n",
              "3  4830.0  \n",
              "4  6037.0  "
            ],
            "text/html": [
              "\n",
              "  <div id=\"df-619c406e-811a-4c06-a82e-babd5c061201\">\n",
              "    <div class=\"colab-df-container\">\n",
              "      <div>\n",
              "<style scoped>\n",
              "    .dataframe tbody tr th:only-of-type {\n",
              "        vertical-align: middle;\n",
              "    }\n",
              "\n",
              "    .dataframe tbody tr th {\n",
              "        vertical-align: top;\n",
              "    }\n",
              "\n",
              "    .dataframe thead th {\n",
              "        text-align: right;\n",
              "    }\n",
              "</style>\n",
              "<table border=\"1\" class=\"dataframe\">\n",
              "  <thead>\n",
              "    <tr style=\"text-align: right;\">\n",
              "      <th></th>\n",
              "      <th>Sentence</th>\n",
              "      <th>Emotion</th>\n",
              "      <th>Unnamed: 2</th>\n",
              "      <th>Unnamed: 3</th>\n",
              "      <th>Unnamed: 4</th>\n",
              "      <th>공포</th>\n",
              "      <th>5468</th>\n",
              "    </tr>\n",
              "  </thead>\n",
              "  <tbody>\n",
              "    <tr>\n",
              "      <th>0</th>\n",
              "      <td>언니 동생으로 부르는게 맞는 일인가요..??</td>\n",
              "      <td>공포</td>\n",
              "      <td>NaN</td>\n",
              "      <td>NaN</td>\n",
              "      <td>NaN</td>\n",
              "      <td>놀람</td>\n",
              "      <td>5898.0</td>\n",
              "    </tr>\n",
              "    <tr>\n",
              "      <th>1</th>\n",
              "      <td>그냥 내 느낌일뿐겠지?</td>\n",
              "      <td>공포</td>\n",
              "      <td>NaN</td>\n",
              "      <td>NaN</td>\n",
              "      <td>NaN</td>\n",
              "      <td>분노</td>\n",
              "      <td>5665.0</td>\n",
              "    </tr>\n",
              "    <tr>\n",
              "      <th>2</th>\n",
              "      <td>아직너무초기라서 그런거죠?</td>\n",
              "      <td>공포</td>\n",
              "      <td>NaN</td>\n",
              "      <td>NaN</td>\n",
              "      <td>NaN</td>\n",
              "      <td>슬픔</td>\n",
              "      <td>5267.0</td>\n",
              "    </tr>\n",
              "    <tr>\n",
              "      <th>3</th>\n",
              "      <td>유치원버스 사고 낫다던데</td>\n",
              "      <td>공포</td>\n",
              "      <td>NaN</td>\n",
              "      <td>NaN</td>\n",
              "      <td>NaN</td>\n",
              "      <td>중립</td>\n",
              "      <td>4830.0</td>\n",
              "    </tr>\n",
              "    <tr>\n",
              "      <th>4</th>\n",
              "      <td>근데 원래이런거맞나요</td>\n",
              "      <td>공포</td>\n",
              "      <td>NaN</td>\n",
              "      <td>NaN</td>\n",
              "      <td>NaN</td>\n",
              "      <td>행복</td>\n",
              "      <td>6037.0</td>\n",
              "    </tr>\n",
              "  </tbody>\n",
              "</table>\n",
              "</div>\n",
              "      <button class=\"colab-df-convert\" onclick=\"convertToInteractive('df-619c406e-811a-4c06-a82e-babd5c061201')\"\n",
              "              title=\"Convert this dataframe to an interactive table.\"\n",
              "              style=\"display:none;\">\n",
              "        \n",
              "  <svg xmlns=\"http://www.w3.org/2000/svg\" height=\"24px\"viewBox=\"0 0 24 24\"\n",
              "       width=\"24px\">\n",
              "    <path d=\"M0 0h24v24H0V0z\" fill=\"none\"/>\n",
              "    <path d=\"M18.56 5.44l.94 2.06.94-2.06 2.06-.94-2.06-.94-.94-2.06-.94 2.06-2.06.94zm-11 1L8.5 8.5l.94-2.06 2.06-.94-2.06-.94L8.5 2.5l-.94 2.06-2.06.94zm10 10l.94 2.06.94-2.06 2.06-.94-2.06-.94-.94-2.06-.94 2.06-2.06.94z\"/><path d=\"M17.41 7.96l-1.37-1.37c-.4-.4-.92-.59-1.43-.59-.52 0-1.04.2-1.43.59L10.3 9.45l-7.72 7.72c-.78.78-.78 2.05 0 2.83L4 21.41c.39.39.9.59 1.41.59.51 0 1.02-.2 1.41-.59l7.78-7.78 2.81-2.81c.8-.78.8-2.07 0-2.86zM5.41 20L4 18.59l7.72-7.72 1.47 1.35L5.41 20z\"/>\n",
              "  </svg>\n",
              "      </button>\n",
              "      \n",
              "  <style>\n",
              "    .colab-df-container {\n",
              "      display:flex;\n",
              "      flex-wrap:wrap;\n",
              "      gap: 12px;\n",
              "    }\n",
              "\n",
              "    .colab-df-convert {\n",
              "      background-color: #E8F0FE;\n",
              "      border: none;\n",
              "      border-radius: 50%;\n",
              "      cursor: pointer;\n",
              "      display: none;\n",
              "      fill: #1967D2;\n",
              "      height: 32px;\n",
              "      padding: 0 0 0 0;\n",
              "      width: 32px;\n",
              "    }\n",
              "\n",
              "    .colab-df-convert:hover {\n",
              "      background-color: #E2EBFA;\n",
              "      box-shadow: 0px 1px 2px rgba(60, 64, 67, 0.3), 0px 1px 3px 1px rgba(60, 64, 67, 0.15);\n",
              "      fill: #174EA6;\n",
              "    }\n",
              "\n",
              "    [theme=dark] .colab-df-convert {\n",
              "      background-color: #3B4455;\n",
              "      fill: #D2E3FC;\n",
              "    }\n",
              "\n",
              "    [theme=dark] .colab-df-convert:hover {\n",
              "      background-color: #434B5C;\n",
              "      box-shadow: 0px 1px 3px 1px rgba(0, 0, 0, 0.15);\n",
              "      filter: drop-shadow(0px 1px 2px rgba(0, 0, 0, 0.3));\n",
              "      fill: #FFFFFF;\n",
              "    }\n",
              "  </style>\n",
              "\n",
              "      <script>\n",
              "        const buttonEl =\n",
              "          document.querySelector('#df-619c406e-811a-4c06-a82e-babd5c061201 button.colab-df-convert');\n",
              "        buttonEl.style.display =\n",
              "          google.colab.kernel.accessAllowed ? 'block' : 'none';\n",
              "\n",
              "        async function convertToInteractive(key) {\n",
              "          const element = document.querySelector('#df-619c406e-811a-4c06-a82e-babd5c061201');\n",
              "          const dataTable =\n",
              "            await google.colab.kernel.invokeFunction('convertToInteractive',\n",
              "                                                     [key], {});\n",
              "          if (!dataTable) return;\n",
              "\n",
              "          const docLinkHtml = 'Like what you see? Visit the ' +\n",
              "            '<a target=\"_blank\" href=https://colab.research.google.com/notebooks/data_table.ipynb>data table notebook</a>'\n",
              "            + ' to learn more about interactive tables.';\n",
              "          element.innerHTML = '';\n",
              "          dataTable['output_type'] = 'display_data';\n",
              "          await google.colab.output.renderOutput(dataTable, element);\n",
              "          const docLink = document.createElement('div');\n",
              "          docLink.innerHTML = docLinkHtml;\n",
              "          element.appendChild(docLink);\n",
              "        }\n",
              "      </script>\n",
              "    </div>\n",
              "  </div>\n",
              "  "
            ]
          },
          "metadata": {},
          "execution_count": 32
        }
      ]
    },
    {
      "cell_type": "code",
      "source": [
        "#데이터 중 실질적으로 필요한 것만 추출 -> 다양한 방법을 통하여 할 수 있음\n",
        "data = data[['Sentence', 'Emotion']]"
      ],
      "metadata": {
        "id": "d0QcDhefTytj"
      },
      "execution_count": null,
      "outputs": []
    },
    {
      "cell_type": "code",
      "source": [
        "#데이터 체킹\n",
        "data.head()"
      ],
      "metadata": {
        "colab": {
          "base_uri": "https://localhost:8080/",
          "height": 206
        },
        "id": "jpx42KgpT-EB",
        "outputId": "25c6fc77-1d0d-49d4-f656-02afe4adefba"
      },
      "execution_count": null,
      "outputs": [
        {
          "output_type": "execute_result",
          "data": {
            "text/plain": [
              "                   Sentence Emotion\n",
              "0  언니 동생으로 부르는게 맞는 일인가요..??      공포\n",
              "1              그냥 내 느낌일뿐겠지?      공포\n",
              "2            아직너무초기라서 그런거죠?      공포\n",
              "3             유치원버스 사고 낫다던데      공포\n",
              "4               근데 원래이런거맞나요      공포"
            ],
            "text/html": [
              "\n",
              "  <div id=\"df-c525eff9-ea7f-4019-898c-c5b4a88719fa\">\n",
              "    <div class=\"colab-df-container\">\n",
              "      <div>\n",
              "<style scoped>\n",
              "    .dataframe tbody tr th:only-of-type {\n",
              "        vertical-align: middle;\n",
              "    }\n",
              "\n",
              "    .dataframe tbody tr th {\n",
              "        vertical-align: top;\n",
              "    }\n",
              "\n",
              "    .dataframe thead th {\n",
              "        text-align: right;\n",
              "    }\n",
              "</style>\n",
              "<table border=\"1\" class=\"dataframe\">\n",
              "  <thead>\n",
              "    <tr style=\"text-align: right;\">\n",
              "      <th></th>\n",
              "      <th>Sentence</th>\n",
              "      <th>Emotion</th>\n",
              "    </tr>\n",
              "  </thead>\n",
              "  <tbody>\n",
              "    <tr>\n",
              "      <th>0</th>\n",
              "      <td>언니 동생으로 부르는게 맞는 일인가요..??</td>\n",
              "      <td>공포</td>\n",
              "    </tr>\n",
              "    <tr>\n",
              "      <th>1</th>\n",
              "      <td>그냥 내 느낌일뿐겠지?</td>\n",
              "      <td>공포</td>\n",
              "    </tr>\n",
              "    <tr>\n",
              "      <th>2</th>\n",
              "      <td>아직너무초기라서 그런거죠?</td>\n",
              "      <td>공포</td>\n",
              "    </tr>\n",
              "    <tr>\n",
              "      <th>3</th>\n",
              "      <td>유치원버스 사고 낫다던데</td>\n",
              "      <td>공포</td>\n",
              "    </tr>\n",
              "    <tr>\n",
              "      <th>4</th>\n",
              "      <td>근데 원래이런거맞나요</td>\n",
              "      <td>공포</td>\n",
              "    </tr>\n",
              "  </tbody>\n",
              "</table>\n",
              "</div>\n",
              "      <button class=\"colab-df-convert\" onclick=\"convertToInteractive('df-c525eff9-ea7f-4019-898c-c5b4a88719fa')\"\n",
              "              title=\"Convert this dataframe to an interactive table.\"\n",
              "              style=\"display:none;\">\n",
              "        \n",
              "  <svg xmlns=\"http://www.w3.org/2000/svg\" height=\"24px\"viewBox=\"0 0 24 24\"\n",
              "       width=\"24px\">\n",
              "    <path d=\"M0 0h24v24H0V0z\" fill=\"none\"/>\n",
              "    <path d=\"M18.56 5.44l.94 2.06.94-2.06 2.06-.94-2.06-.94-.94-2.06-.94 2.06-2.06.94zm-11 1L8.5 8.5l.94-2.06 2.06-.94-2.06-.94L8.5 2.5l-.94 2.06-2.06.94zm10 10l.94 2.06.94-2.06 2.06-.94-2.06-.94-.94-2.06-.94 2.06-2.06.94z\"/><path d=\"M17.41 7.96l-1.37-1.37c-.4-.4-.92-.59-1.43-.59-.52 0-1.04.2-1.43.59L10.3 9.45l-7.72 7.72c-.78.78-.78 2.05 0 2.83L4 21.41c.39.39.9.59 1.41.59.51 0 1.02-.2 1.41-.59l7.78-7.78 2.81-2.81c.8-.78.8-2.07 0-2.86zM5.41 20L4 18.59l7.72-7.72 1.47 1.35L5.41 20z\"/>\n",
              "  </svg>\n",
              "      </button>\n",
              "      \n",
              "  <style>\n",
              "    .colab-df-container {\n",
              "      display:flex;\n",
              "      flex-wrap:wrap;\n",
              "      gap: 12px;\n",
              "    }\n",
              "\n",
              "    .colab-df-convert {\n",
              "      background-color: #E8F0FE;\n",
              "      border: none;\n",
              "      border-radius: 50%;\n",
              "      cursor: pointer;\n",
              "      display: none;\n",
              "      fill: #1967D2;\n",
              "      height: 32px;\n",
              "      padding: 0 0 0 0;\n",
              "      width: 32px;\n",
              "    }\n",
              "\n",
              "    .colab-df-convert:hover {\n",
              "      background-color: #E2EBFA;\n",
              "      box-shadow: 0px 1px 2px rgba(60, 64, 67, 0.3), 0px 1px 3px 1px rgba(60, 64, 67, 0.15);\n",
              "      fill: #174EA6;\n",
              "    }\n",
              "\n",
              "    [theme=dark] .colab-df-convert {\n",
              "      background-color: #3B4455;\n",
              "      fill: #D2E3FC;\n",
              "    }\n",
              "\n",
              "    [theme=dark] .colab-df-convert:hover {\n",
              "      background-color: #434B5C;\n",
              "      box-shadow: 0px 1px 3px 1px rgba(0, 0, 0, 0.15);\n",
              "      filter: drop-shadow(0px 1px 2px rgba(0, 0, 0, 0.3));\n",
              "      fill: #FFFFFF;\n",
              "    }\n",
              "  </style>\n",
              "\n",
              "      <script>\n",
              "        const buttonEl =\n",
              "          document.querySelector('#df-c525eff9-ea7f-4019-898c-c5b4a88719fa button.colab-df-convert');\n",
              "        buttonEl.style.display =\n",
              "          google.colab.kernel.accessAllowed ? 'block' : 'none';\n",
              "\n",
              "        async function convertToInteractive(key) {\n",
              "          const element = document.querySelector('#df-c525eff9-ea7f-4019-898c-c5b4a88719fa');\n",
              "          const dataTable =\n",
              "            await google.colab.kernel.invokeFunction('convertToInteractive',\n",
              "                                                     [key], {});\n",
              "          if (!dataTable) return;\n",
              "\n",
              "          const docLinkHtml = 'Like what you see? Visit the ' +\n",
              "            '<a target=\"_blank\" href=https://colab.research.google.com/notebooks/data_table.ipynb>data table notebook</a>'\n",
              "            + ' to learn more about interactive tables.';\n",
              "          element.innerHTML = '';\n",
              "          dataTable['output_type'] = 'display_data';\n",
              "          await google.colab.output.renderOutput(dataTable, element);\n",
              "          const docLink = document.createElement('div');\n",
              "          docLink.innerHTML = docLinkHtml;\n",
              "          element.appendChild(docLink);\n",
              "        }\n",
              "      </script>\n",
              "    </div>\n",
              "  </div>\n",
              "  "
            ]
          },
          "metadata": {},
          "execution_count": 34
        }
      ]
    },
    {
      "cell_type": "code",
      "source": [
        "#타겟 값 확인 -> 한글로 되어 있음 -> 숫자 코딩 필요\n",
        "print(np.unique(data['Emotion'], return_counts = True))"
      ],
      "metadata": {
        "colab": {
          "base_uri": "https://localhost:8080/"
        },
        "id": "JCE36kZDULj6",
        "outputId": "95789c8f-e2cb-41cb-ab73-f09dad7bea6e"
      },
      "execution_count": null,
      "outputs": [
        {
          "output_type": "stream",
          "name": "stdout",
          "text": [
            "(array(['공포', '놀람', '분노', '슬픔', '중립', '행복', '혐오'], dtype=object), array([5468, 5898, 5665, 5267, 4830, 6037, 5429]))\n"
          ]
        }
      ]
    },
    {
      "cell_type": "code",
      "source": [
        "#숫자로 바꾸는 함수 생성\n",
        "def emotion(x):\n",
        "  if x == '공포':\n",
        "    return 0\n",
        "  elif x == '놀람':\n",
        "    return 1\n",
        "  elif x == '분노':\n",
        "    return 2\n",
        "  elif x == '슬픔':\n",
        "    return 3\n",
        "  elif x == '중립':\n",
        "    return 4\n",
        "  elif x =='행복':\n",
        "    return 5\n",
        "  elif x =='혐오':\n",
        "    return 6"
      ],
      "metadata": {
        "id": "MGXiwbwmZbIC"
      },
      "execution_count": null,
      "outputs": []
    },
    {
      "cell_type": "code",
      "source": [
        "#타겟 값을 숫자화\n",
        "data['Emotion'] = data['Emotion'].apply(emotion)"
      ],
      "metadata": {
        "id": "fJqKHRb6aa97"
      },
      "execution_count": null,
      "outputs": []
    },
    {
      "cell_type": "code",
      "source": [
        "#데이터 체킹 -> 제대로 변환 되었음\n",
        "data.head(5)"
      ],
      "metadata": {
        "colab": {
          "base_uri": "https://localhost:8080/",
          "height": 206
        },
        "id": "d86oCSgIaoON",
        "outputId": "7708a8a2-271f-42b9-e906-36079b402d18"
      },
      "execution_count": null,
      "outputs": [
        {
          "output_type": "execute_result",
          "data": {
            "text/plain": [
              "                   Sentence  Emotion\n",
              "0  언니 동생으로 부르는게 맞는 일인가요..??        0\n",
              "1              그냥 내 느낌일뿐겠지?        0\n",
              "2            아직너무초기라서 그런거죠?        0\n",
              "3             유치원버스 사고 낫다던데        0\n",
              "4               근데 원래이런거맞나요        0"
            ],
            "text/html": [
              "\n",
              "  <div id=\"df-221aa1ab-dc9d-4225-8299-7f35cf0badb9\">\n",
              "    <div class=\"colab-df-container\">\n",
              "      <div>\n",
              "<style scoped>\n",
              "    .dataframe tbody tr th:only-of-type {\n",
              "        vertical-align: middle;\n",
              "    }\n",
              "\n",
              "    .dataframe tbody tr th {\n",
              "        vertical-align: top;\n",
              "    }\n",
              "\n",
              "    .dataframe thead th {\n",
              "        text-align: right;\n",
              "    }\n",
              "</style>\n",
              "<table border=\"1\" class=\"dataframe\">\n",
              "  <thead>\n",
              "    <tr style=\"text-align: right;\">\n",
              "      <th></th>\n",
              "      <th>Sentence</th>\n",
              "      <th>Emotion</th>\n",
              "    </tr>\n",
              "  </thead>\n",
              "  <tbody>\n",
              "    <tr>\n",
              "      <th>0</th>\n",
              "      <td>언니 동생으로 부르는게 맞는 일인가요..??</td>\n",
              "      <td>0</td>\n",
              "    </tr>\n",
              "    <tr>\n",
              "      <th>1</th>\n",
              "      <td>그냥 내 느낌일뿐겠지?</td>\n",
              "      <td>0</td>\n",
              "    </tr>\n",
              "    <tr>\n",
              "      <th>2</th>\n",
              "      <td>아직너무초기라서 그런거죠?</td>\n",
              "      <td>0</td>\n",
              "    </tr>\n",
              "    <tr>\n",
              "      <th>3</th>\n",
              "      <td>유치원버스 사고 낫다던데</td>\n",
              "      <td>0</td>\n",
              "    </tr>\n",
              "    <tr>\n",
              "      <th>4</th>\n",
              "      <td>근데 원래이런거맞나요</td>\n",
              "      <td>0</td>\n",
              "    </tr>\n",
              "  </tbody>\n",
              "</table>\n",
              "</div>\n",
              "      <button class=\"colab-df-convert\" onclick=\"convertToInteractive('df-221aa1ab-dc9d-4225-8299-7f35cf0badb9')\"\n",
              "              title=\"Convert this dataframe to an interactive table.\"\n",
              "              style=\"display:none;\">\n",
              "        \n",
              "  <svg xmlns=\"http://www.w3.org/2000/svg\" height=\"24px\"viewBox=\"0 0 24 24\"\n",
              "       width=\"24px\">\n",
              "    <path d=\"M0 0h24v24H0V0z\" fill=\"none\"/>\n",
              "    <path d=\"M18.56 5.44l.94 2.06.94-2.06 2.06-.94-2.06-.94-.94-2.06-.94 2.06-2.06.94zm-11 1L8.5 8.5l.94-2.06 2.06-.94-2.06-.94L8.5 2.5l-.94 2.06-2.06.94zm10 10l.94 2.06.94-2.06 2.06-.94-2.06-.94-.94-2.06-.94 2.06-2.06.94z\"/><path d=\"M17.41 7.96l-1.37-1.37c-.4-.4-.92-.59-1.43-.59-.52 0-1.04.2-1.43.59L10.3 9.45l-7.72 7.72c-.78.78-.78 2.05 0 2.83L4 21.41c.39.39.9.59 1.41.59.51 0 1.02-.2 1.41-.59l7.78-7.78 2.81-2.81c.8-.78.8-2.07 0-2.86zM5.41 20L4 18.59l7.72-7.72 1.47 1.35L5.41 20z\"/>\n",
              "  </svg>\n",
              "      </button>\n",
              "      \n",
              "  <style>\n",
              "    .colab-df-container {\n",
              "      display:flex;\n",
              "      flex-wrap:wrap;\n",
              "      gap: 12px;\n",
              "    }\n",
              "\n",
              "    .colab-df-convert {\n",
              "      background-color: #E8F0FE;\n",
              "      border: none;\n",
              "      border-radius: 50%;\n",
              "      cursor: pointer;\n",
              "      display: none;\n",
              "      fill: #1967D2;\n",
              "      height: 32px;\n",
              "      padding: 0 0 0 0;\n",
              "      width: 32px;\n",
              "    }\n",
              "\n",
              "    .colab-df-convert:hover {\n",
              "      background-color: #E2EBFA;\n",
              "      box-shadow: 0px 1px 2px rgba(60, 64, 67, 0.3), 0px 1px 3px 1px rgba(60, 64, 67, 0.15);\n",
              "      fill: #174EA6;\n",
              "    }\n",
              "\n",
              "    [theme=dark] .colab-df-convert {\n",
              "      background-color: #3B4455;\n",
              "      fill: #D2E3FC;\n",
              "    }\n",
              "\n",
              "    [theme=dark] .colab-df-convert:hover {\n",
              "      background-color: #434B5C;\n",
              "      box-shadow: 0px 1px 3px 1px rgba(0, 0, 0, 0.15);\n",
              "      filter: drop-shadow(0px 1px 2px rgba(0, 0, 0, 0.3));\n",
              "      fill: #FFFFFF;\n",
              "    }\n",
              "  </style>\n",
              "\n",
              "      <script>\n",
              "        const buttonEl =\n",
              "          document.querySelector('#df-221aa1ab-dc9d-4225-8299-7f35cf0badb9 button.colab-df-convert');\n",
              "        buttonEl.style.display =\n",
              "          google.colab.kernel.accessAllowed ? 'block' : 'none';\n",
              "\n",
              "        async function convertToInteractive(key) {\n",
              "          const element = document.querySelector('#df-221aa1ab-dc9d-4225-8299-7f35cf0badb9');\n",
              "          const dataTable =\n",
              "            await google.colab.kernel.invokeFunction('convertToInteractive',\n",
              "                                                     [key], {});\n",
              "          if (!dataTable) return;\n",
              "\n",
              "          const docLinkHtml = 'Like what you see? Visit the ' +\n",
              "            '<a target=\"_blank\" href=https://colab.research.google.com/notebooks/data_table.ipynb>data table notebook</a>'\n",
              "            + ' to learn more about interactive tables.';\n",
              "          element.innerHTML = '';\n",
              "          dataTable['output_type'] = 'display_data';\n",
              "          await google.colab.output.renderOutput(dataTable, element);\n",
              "          const docLink = document.createElement('div');\n",
              "          docLink.innerHTML = docLinkHtml;\n",
              "          element.appendChild(docLink);\n",
              "        }\n",
              "      </script>\n",
              "    </div>\n",
              "  </div>\n",
              "  "
            ]
          },
          "metadata": {},
          "execution_count": 38
        }
      ]
    },
    {
      "cell_type": "code",
      "source": [
        "#물음표 등 문장부호 삭제 필요\n",
        "import string\n",
        "data['Sentence'] = data['Sentence'].apply(lambda x : ''.join([k for k in x if k not in string.punctuation]))\n",
        "\n",
        "#타겟 값과 결합\n",
        "data = pd.concat([data['Emotion'], data['Sentence']], axis = 1)"
      ],
      "metadata": {
        "id": "SE9qXHc9Whnx"
      },
      "execution_count": null,
      "outputs": []
    },
    {
      "cell_type": "code",
      "source": [
        "data"
      ],
      "metadata": {
        "colab": {
          "base_uri": "https://localhost:8080/",
          "height": 423
        },
        "id": "OlNkwGRUXmAi",
        "outputId": "343a173e-adc9-48a2-9ec5-c27566d3ccb6"
      },
      "execution_count": null,
      "outputs": [
        {
          "output_type": "execute_result",
          "data": {
            "text/plain": [
              "       Emotion                                           Sentence\n",
              "0            0                               언니 동생으로 부르는게 맞는 일인가요\n",
              "1            0                                        그냥 내 느낌일뿐겠지\n",
              "2            0                                      아직너무초기라서 그런거죠\n",
              "3            0                                      유치원버스 사고 낫다던데\n",
              "4            0                                        근데 원래이런거맞나요\n",
              "...        ...                                                ...\n",
              "38589        6                 솔직히 예보 제대로 못하는 데 세금이라도 아끼게 그냥 폐지해라\n",
              "38590        6                                        재미가 없으니 망하지\n",
              "38591        6  공장 도시락 비우생적임 아르바이트했는데 화장실가성 손도 않씯고 재료 담고 바닥 떨어...\n",
              "38592        6               코딱지 만한 나라에서 지들끼리 피터지게 싸우는 센징 클래스 ㅉㅉㅉ\n",
              "38593        6               와이프도 그렇고 댓글 다 볼텐데 이휘재 좀 하차 하라고 전해주세요\n",
              "\n",
              "[38594 rows x 2 columns]"
            ],
            "text/html": [
              "\n",
              "  <div id=\"df-db9e34d6-c961-48f6-8348-12c9027d5388\">\n",
              "    <div class=\"colab-df-container\">\n",
              "      <div>\n",
              "<style scoped>\n",
              "    .dataframe tbody tr th:only-of-type {\n",
              "        vertical-align: middle;\n",
              "    }\n",
              "\n",
              "    .dataframe tbody tr th {\n",
              "        vertical-align: top;\n",
              "    }\n",
              "\n",
              "    .dataframe thead th {\n",
              "        text-align: right;\n",
              "    }\n",
              "</style>\n",
              "<table border=\"1\" class=\"dataframe\">\n",
              "  <thead>\n",
              "    <tr style=\"text-align: right;\">\n",
              "      <th></th>\n",
              "      <th>Emotion</th>\n",
              "      <th>Sentence</th>\n",
              "    </tr>\n",
              "  </thead>\n",
              "  <tbody>\n",
              "    <tr>\n",
              "      <th>0</th>\n",
              "      <td>0</td>\n",
              "      <td>언니 동생으로 부르는게 맞는 일인가요</td>\n",
              "    </tr>\n",
              "    <tr>\n",
              "      <th>1</th>\n",
              "      <td>0</td>\n",
              "      <td>그냥 내 느낌일뿐겠지</td>\n",
              "    </tr>\n",
              "    <tr>\n",
              "      <th>2</th>\n",
              "      <td>0</td>\n",
              "      <td>아직너무초기라서 그런거죠</td>\n",
              "    </tr>\n",
              "    <tr>\n",
              "      <th>3</th>\n",
              "      <td>0</td>\n",
              "      <td>유치원버스 사고 낫다던데</td>\n",
              "    </tr>\n",
              "    <tr>\n",
              "      <th>4</th>\n",
              "      <td>0</td>\n",
              "      <td>근데 원래이런거맞나요</td>\n",
              "    </tr>\n",
              "    <tr>\n",
              "      <th>...</th>\n",
              "      <td>...</td>\n",
              "      <td>...</td>\n",
              "    </tr>\n",
              "    <tr>\n",
              "      <th>38589</th>\n",
              "      <td>6</td>\n",
              "      <td>솔직히 예보 제대로 못하는 데 세금이라도 아끼게 그냥 폐지해라</td>\n",
              "    </tr>\n",
              "    <tr>\n",
              "      <th>38590</th>\n",
              "      <td>6</td>\n",
              "      <td>재미가 없으니 망하지</td>\n",
              "    </tr>\n",
              "    <tr>\n",
              "      <th>38591</th>\n",
              "      <td>6</td>\n",
              "      <td>공장 도시락 비우생적임 아르바이트했는데 화장실가성 손도 않씯고 재료 담고 바닥 떨어...</td>\n",
              "    </tr>\n",
              "    <tr>\n",
              "      <th>38592</th>\n",
              "      <td>6</td>\n",
              "      <td>코딱지 만한 나라에서 지들끼리 피터지게 싸우는 센징 클래스 ㅉㅉㅉ</td>\n",
              "    </tr>\n",
              "    <tr>\n",
              "      <th>38593</th>\n",
              "      <td>6</td>\n",
              "      <td>와이프도 그렇고 댓글 다 볼텐데 이휘재 좀 하차 하라고 전해주세요</td>\n",
              "    </tr>\n",
              "  </tbody>\n",
              "</table>\n",
              "<p>38594 rows × 2 columns</p>\n",
              "</div>\n",
              "      <button class=\"colab-df-convert\" onclick=\"convertToInteractive('df-db9e34d6-c961-48f6-8348-12c9027d5388')\"\n",
              "              title=\"Convert this dataframe to an interactive table.\"\n",
              "              style=\"display:none;\">\n",
              "        \n",
              "  <svg xmlns=\"http://www.w3.org/2000/svg\" height=\"24px\"viewBox=\"0 0 24 24\"\n",
              "       width=\"24px\">\n",
              "    <path d=\"M0 0h24v24H0V0z\" fill=\"none\"/>\n",
              "    <path d=\"M18.56 5.44l.94 2.06.94-2.06 2.06-.94-2.06-.94-.94-2.06-.94 2.06-2.06.94zm-11 1L8.5 8.5l.94-2.06 2.06-.94-2.06-.94L8.5 2.5l-.94 2.06-2.06.94zm10 10l.94 2.06.94-2.06 2.06-.94-2.06-.94-.94-2.06-.94 2.06-2.06.94z\"/><path d=\"M17.41 7.96l-1.37-1.37c-.4-.4-.92-.59-1.43-.59-.52 0-1.04.2-1.43.59L10.3 9.45l-7.72 7.72c-.78.78-.78 2.05 0 2.83L4 21.41c.39.39.9.59 1.41.59.51 0 1.02-.2 1.41-.59l7.78-7.78 2.81-2.81c.8-.78.8-2.07 0-2.86zM5.41 20L4 18.59l7.72-7.72 1.47 1.35L5.41 20z\"/>\n",
              "  </svg>\n",
              "      </button>\n",
              "      \n",
              "  <style>\n",
              "    .colab-df-container {\n",
              "      display:flex;\n",
              "      flex-wrap:wrap;\n",
              "      gap: 12px;\n",
              "    }\n",
              "\n",
              "    .colab-df-convert {\n",
              "      background-color: #E8F0FE;\n",
              "      border: none;\n",
              "      border-radius: 50%;\n",
              "      cursor: pointer;\n",
              "      display: none;\n",
              "      fill: #1967D2;\n",
              "      height: 32px;\n",
              "      padding: 0 0 0 0;\n",
              "      width: 32px;\n",
              "    }\n",
              "\n",
              "    .colab-df-convert:hover {\n",
              "      background-color: #E2EBFA;\n",
              "      box-shadow: 0px 1px 2px rgba(60, 64, 67, 0.3), 0px 1px 3px 1px rgba(60, 64, 67, 0.15);\n",
              "      fill: #174EA6;\n",
              "    }\n",
              "\n",
              "    [theme=dark] .colab-df-convert {\n",
              "      background-color: #3B4455;\n",
              "      fill: #D2E3FC;\n",
              "    }\n",
              "\n",
              "    [theme=dark] .colab-df-convert:hover {\n",
              "      background-color: #434B5C;\n",
              "      box-shadow: 0px 1px 3px 1px rgba(0, 0, 0, 0.15);\n",
              "      filter: drop-shadow(0px 1px 2px rgba(0, 0, 0, 0.3));\n",
              "      fill: #FFFFFF;\n",
              "    }\n",
              "  </style>\n",
              "\n",
              "      <script>\n",
              "        const buttonEl =\n",
              "          document.querySelector('#df-db9e34d6-c961-48f6-8348-12c9027d5388 button.colab-df-convert');\n",
              "        buttonEl.style.display =\n",
              "          google.colab.kernel.accessAllowed ? 'block' : 'none';\n",
              "\n",
              "        async function convertToInteractive(key) {\n",
              "          const element = document.querySelector('#df-db9e34d6-c961-48f6-8348-12c9027d5388');\n",
              "          const dataTable =\n",
              "            await google.colab.kernel.invokeFunction('convertToInteractive',\n",
              "                                                     [key], {});\n",
              "          if (!dataTable) return;\n",
              "\n",
              "          const docLinkHtml = 'Like what you see? Visit the ' +\n",
              "            '<a target=\"_blank\" href=https://colab.research.google.com/notebooks/data_table.ipynb>data table notebook</a>'\n",
              "            + ' to learn more about interactive tables.';\n",
              "          element.innerHTML = '';\n",
              "          dataTable['output_type'] = 'display_data';\n",
              "          await google.colab.output.renderOutput(dataTable, element);\n",
              "          const docLink = document.createElement('div');\n",
              "          docLink.innerHTML = docLinkHtml;\n",
              "          element.appendChild(docLink);\n",
              "        }\n",
              "      </script>\n",
              "    </div>\n",
              "  </div>\n",
              "  "
            ]
          },
          "metadata": {},
          "execution_count": 46
        }
      ]
    },
    {
      "cell_type": "code",
      "source": [
        "data.head(5)"
      ],
      "metadata": {
        "colab": {
          "base_uri": "https://localhost:8080/",
          "height": 206
        },
        "id": "cW9s_zuFXFSK",
        "outputId": "80fe9cbb-899a-4c5c-df37-448f05e71ddd"
      },
      "execution_count": null,
      "outputs": [
        {
          "output_type": "execute_result",
          "data": {
            "text/plain": [
              "   Emotion              Sentence\n",
              "0        0  언니 동생으로 부르는게 맞는 일인가요\n",
              "1        0           그냥 내 느낌일뿐겠지\n",
              "2        0         아직너무초기라서 그런거죠\n",
              "3        0         유치원버스 사고 낫다던데\n",
              "4        0           근데 원래이런거맞나요"
            ],
            "text/html": [
              "\n",
              "  <div id=\"df-e5f47893-0bfe-4e4e-9501-a5b3bd5d5168\">\n",
              "    <div class=\"colab-df-container\">\n",
              "      <div>\n",
              "<style scoped>\n",
              "    .dataframe tbody tr th:only-of-type {\n",
              "        vertical-align: middle;\n",
              "    }\n",
              "\n",
              "    .dataframe tbody tr th {\n",
              "        vertical-align: top;\n",
              "    }\n",
              "\n",
              "    .dataframe thead th {\n",
              "        text-align: right;\n",
              "    }\n",
              "</style>\n",
              "<table border=\"1\" class=\"dataframe\">\n",
              "  <thead>\n",
              "    <tr style=\"text-align: right;\">\n",
              "      <th></th>\n",
              "      <th>Emotion</th>\n",
              "      <th>Sentence</th>\n",
              "    </tr>\n",
              "  </thead>\n",
              "  <tbody>\n",
              "    <tr>\n",
              "      <th>0</th>\n",
              "      <td>0</td>\n",
              "      <td>언니 동생으로 부르는게 맞는 일인가요</td>\n",
              "    </tr>\n",
              "    <tr>\n",
              "      <th>1</th>\n",
              "      <td>0</td>\n",
              "      <td>그냥 내 느낌일뿐겠지</td>\n",
              "    </tr>\n",
              "    <tr>\n",
              "      <th>2</th>\n",
              "      <td>0</td>\n",
              "      <td>아직너무초기라서 그런거죠</td>\n",
              "    </tr>\n",
              "    <tr>\n",
              "      <th>3</th>\n",
              "      <td>0</td>\n",
              "      <td>유치원버스 사고 낫다던데</td>\n",
              "    </tr>\n",
              "    <tr>\n",
              "      <th>4</th>\n",
              "      <td>0</td>\n",
              "      <td>근데 원래이런거맞나요</td>\n",
              "    </tr>\n",
              "  </tbody>\n",
              "</table>\n",
              "</div>\n",
              "      <button class=\"colab-df-convert\" onclick=\"convertToInteractive('df-e5f47893-0bfe-4e4e-9501-a5b3bd5d5168')\"\n",
              "              title=\"Convert this dataframe to an interactive table.\"\n",
              "              style=\"display:none;\">\n",
              "        \n",
              "  <svg xmlns=\"http://www.w3.org/2000/svg\" height=\"24px\"viewBox=\"0 0 24 24\"\n",
              "       width=\"24px\">\n",
              "    <path d=\"M0 0h24v24H0V0z\" fill=\"none\"/>\n",
              "    <path d=\"M18.56 5.44l.94 2.06.94-2.06 2.06-.94-2.06-.94-.94-2.06-.94 2.06-2.06.94zm-11 1L8.5 8.5l.94-2.06 2.06-.94-2.06-.94L8.5 2.5l-.94 2.06-2.06.94zm10 10l.94 2.06.94-2.06 2.06-.94-2.06-.94-.94-2.06-.94 2.06-2.06.94z\"/><path d=\"M17.41 7.96l-1.37-1.37c-.4-.4-.92-.59-1.43-.59-.52 0-1.04.2-1.43.59L10.3 9.45l-7.72 7.72c-.78.78-.78 2.05 0 2.83L4 21.41c.39.39.9.59 1.41.59.51 0 1.02-.2 1.41-.59l7.78-7.78 2.81-2.81c.8-.78.8-2.07 0-2.86zM5.41 20L4 18.59l7.72-7.72 1.47 1.35L5.41 20z\"/>\n",
              "  </svg>\n",
              "      </button>\n",
              "      \n",
              "  <style>\n",
              "    .colab-df-container {\n",
              "      display:flex;\n",
              "      flex-wrap:wrap;\n",
              "      gap: 12px;\n",
              "    }\n",
              "\n",
              "    .colab-df-convert {\n",
              "      background-color: #E8F0FE;\n",
              "      border: none;\n",
              "      border-radius: 50%;\n",
              "      cursor: pointer;\n",
              "      display: none;\n",
              "      fill: #1967D2;\n",
              "      height: 32px;\n",
              "      padding: 0 0 0 0;\n",
              "      width: 32px;\n",
              "    }\n",
              "\n",
              "    .colab-df-convert:hover {\n",
              "      background-color: #E2EBFA;\n",
              "      box-shadow: 0px 1px 2px rgba(60, 64, 67, 0.3), 0px 1px 3px 1px rgba(60, 64, 67, 0.15);\n",
              "      fill: #174EA6;\n",
              "    }\n",
              "\n",
              "    [theme=dark] .colab-df-convert {\n",
              "      background-color: #3B4455;\n",
              "      fill: #D2E3FC;\n",
              "    }\n",
              "\n",
              "    [theme=dark] .colab-df-convert:hover {\n",
              "      background-color: #434B5C;\n",
              "      box-shadow: 0px 1px 3px 1px rgba(0, 0, 0, 0.15);\n",
              "      filter: drop-shadow(0px 1px 2px rgba(0, 0, 0, 0.3));\n",
              "      fill: #FFFFFF;\n",
              "    }\n",
              "  </style>\n",
              "\n",
              "      <script>\n",
              "        const buttonEl =\n",
              "          document.querySelector('#df-e5f47893-0bfe-4e4e-9501-a5b3bd5d5168 button.colab-df-convert');\n",
              "        buttonEl.style.display =\n",
              "          google.colab.kernel.accessAllowed ? 'block' : 'none';\n",
              "\n",
              "        async function convertToInteractive(key) {\n",
              "          const element = document.querySelector('#df-e5f47893-0bfe-4e4e-9501-a5b3bd5d5168');\n",
              "          const dataTable =\n",
              "            await google.colab.kernel.invokeFunction('convertToInteractive',\n",
              "                                                     [key], {});\n",
              "          if (!dataTable) return;\n",
              "\n",
              "          const docLinkHtml = 'Like what you see? Visit the ' +\n",
              "            '<a target=\"_blank\" href=https://colab.research.google.com/notebooks/data_table.ipynb>data table notebook</a>'\n",
              "            + ' to learn more about interactive tables.';\n",
              "          element.innerHTML = '';\n",
              "          dataTable['output_type'] = 'display_data';\n",
              "          await google.colab.output.renderOutput(dataTable, element);\n",
              "          const docLink = document.createElement('div');\n",
              "          docLink.innerHTML = docLinkHtml;\n",
              "          element.appendChild(docLink);\n",
              "        }\n",
              "      </script>\n",
              "    </div>\n",
              "  </div>\n",
              "  "
            ]
          },
          "metadata": {},
          "execution_count": 47
        }
      ]
    },
    {
      "cell_type": "code",
      "source": [
        "#타겟 값 분포 확인 완료 -> 어느정도 고르게 분포되어 있음\n",
        "sns.countplot(data['Emotion'])"
      ],
      "metadata": {
        "colab": {
          "base_uri": "https://localhost:8080/",
          "height": 354
        },
        "id": "cAi3fuK1U64x",
        "outputId": "dfc33ce4-ab5b-41bf-b392-33a3b4e3fb13"
      },
      "execution_count": null,
      "outputs": [
        {
          "output_type": "stream",
          "name": "stderr",
          "text": [
            "/usr/local/lib/python3.7/dist-packages/seaborn/_decorators.py:43: FutureWarning: Pass the following variable as a keyword arg: x. From version 0.12, the only valid positional argument will be `data`, and passing other arguments without an explicit keyword will result in an error or misinterpretation.\n",
            "  FutureWarning\n"
          ]
        },
        {
          "output_type": "execute_result",
          "data": {
            "text/plain": [
              "<matplotlib.axes._subplots.AxesSubplot at 0x7fe1c6f122d0>"
            ]
          },
          "metadata": {},
          "execution_count": 48
        },
        {
          "output_type": "display_data",
          "data": {
            "text/plain": [
              "<Figure size 432x288 with 1 Axes>"
            ],
            "image/png": "[encoded data removed]"
          },
          "metadata": {
            "needs_background": "light"
          }
        }
      ]
    },
    {
      "cell_type": "markdown",
      "source": [
        "# konlpy, soynlp 등 한국어 자연어 처리를 위한 패키지에 대하여 사전 공부 **필수**"
      ],
      "metadata": {
        "id": "TMq8dKHhX2Qd"
      }
    },
    {
      "cell_type": "code",
      "source": [
        "pip install konlpy"
      ],
      "metadata": {
        "colab": {
          "base_uri": "https://localhost:8080/"
        },
        "id": "PDINZrWraspr",
        "outputId": "54098f7e-52b6-4358-ff42-f0b38d08c4eb"
      },
      "execution_count": null,
      "outputs": [
        {
          "output_type": "stream",
          "name": "stdout",
          "text": [
            "Looking in indexes: https://pypi.org/simple, https://us-python.pkg.dev/colab-wheels/public/simple/\n",
            "Requirement already satisfied: konlpy in /usr/local/lib/python3.7/dist-packages (0.6.0)\n",
            "Requirement already satisfied: numpy>=1.6 in /usr/local/lib/python3.7/dist-packages (from konlpy) (1.21.6)\n",
            "Requirement already satisfied: JPype1>=0.7.0 in /usr/local/lib/python3.7/dist-packages (from konlpy) (1.4.0)\n",
            "Requirement already satisfied: lxml>=4.1.0 in /usr/local/lib/python3.7/dist-packages (from konlpy) (4.9.1)\n",
            "Requirement already satisfied: typing-extensions in /usr/local/lib/python3.7/dist-packages (from JPype1>=0.7.0->konlpy) (4.1.1)\n"
          ]
        }
      ]
    },
    {
      "cell_type": "code",
      "source": [
        "#형태소 분석기 중 Okt 활용 토크나이징 작업 실시 -> morphs : 형태소 추출, stem : 어간추출\n",
        "from konlpy.tag import Okt\n",
        "\n",
        "okt = Okt()\n",
        "\n",
        "data_text = []\n",
        "for i in range(len(data['Sentence'])):\n",
        "  data_text_preprocession = okt.morphs(data['Sentence'][i], stem = True)\n",
        "  data_text.append(data_text_preprocession)"
      ],
      "metadata": {
        "id": "eY0U7ShRbBh3"
      },
      "execution_count": null,
      "outputs": []
    },
    {
      "cell_type": "code",
      "source": [
        "#추출된 데이터 확인 -> 물음표, 온점 등 punctuation 삭제 필요\n",
        "data_text[0:5]"
      ],
      "metadata": {
        "colab": {
          "base_uri": "https://localhost:8080/"
        },
        "id": "I1tRyU-Xb4PZ",
        "outputId": "15086e42-0864-4cc5-d241-294ff96e1fda"
      },
      "execution_count": null,
      "outputs": [
        {
          "output_type": "execute_result",
          "data": {
            "text/plain": [
              "[['언니', '동생', '으로', '부르다', '맞다', '일', '인가요'],\n",
              " ['그냥', '내', '느낌', '일', '뿐', '겠다'],\n",
              " ['아직', '너무', '초기', '라서', '그런', '거', '죠'],\n",
              " ['유치원', '버스', '사고', '낫다'],\n",
              " ['근데', '원래', '이렇다', '맞다']]"
            ]
          },
          "metadata": {},
          "execution_count": 53
        }
      ]
    },
    {
      "cell_type": "code",
      "source": [
        "#문장길이 확인 작업 실시 : 문장길이가 다르면 학습이 안되기에 평균 길이를 본 후 패딩 작업 실시\n",
        "print('text의 최대 길이 :',max(len(x) for x in data['Sentence']))\n",
        "print('text의 평균 길이 :',sum(map(len, data['Sentence']))/len(data['Sentence']))\n",
        "plt.hist([len(x) for x in data['Sentence']], bins=50)\n",
        "plt.xlabel('length of samples')\n",
        "plt.ylabel('number of samples')\n",
        "plt.show()"
      ],
      "metadata": {
        "colab": {
          "base_uri": "https://localhost:8080/",
          "height": 319
        },
        "id": "zD2TDhf3gCq1",
        "outputId": "31213ede-8790-4acc-b11a-1593d4106d69"
      },
      "execution_count": null,
      "outputs": [
        {
          "output_type": "stream",
          "name": "stdout",
          "text": [
            "text의 최대 길이 : 299\n",
            "text의 평균 길이 : 22.158496139296265\n"
          ]
        },
        {
          "output_type": "display_data",
          "data": {
            "text/plain": [
              "<Figure size 432x288 with 1 Axes>"
            ],
            "image/png": "[encoded data removed]"
          },
          "metadata": {
            "needs_background": "light"
          }
        }
      ]
    },
    {
      "cell_type": "code",
      "source": [
        "#필요한 패키지 임포트 : 문장길이를 맞추는데 사용하는 패딩 및 단어를 숫자화 하는 모듈 등\n",
        "from tensorflow.keras.preprocessing.text import Tokenizer\n",
        "from tensorflow.keras.preprocessing.sequence import pad_sequences\n",
        "tokenizer = Tokenizer()\n",
        "tokenizer.fit_on_texts(data_text)"
      ],
      "metadata": {
        "id": "ecmKs64qggxF"
      },
      "execution_count": null,
      "outputs": []
    },
    {
      "cell_type": "code",
      "source": [
        "#단어사전 크기\n",
        "len(tokenizer.word_index)"
      ],
      "metadata": {
        "colab": {
          "base_uri": "https://localhost:8080/"
        },
        "id": "4K-8pS6akK-q",
        "outputId": "2afc0f1f-f6ef-4ec0-c475-6d201de1c782"
      },
      "execution_count": null,
      "outputs": [
        {
          "output_type": "execute_result",
          "data": {
            "text/plain": [
              "24133"
            ]
          },
          "metadata": {},
          "execution_count": 56
        }
      ]
    },
    {
      "cell_type": "code",
      "source": [
        "#토크나이징 작업 실시\n",
        "tokenizer = Tokenizer(24133)\n",
        "tokenizer.fit_on_texts(data_text)\n",
        "data_input = tokenizer.texts_to_sequences(data_text)"
      ],
      "metadata": {
        "id": "rEnlzEG6l0vr"
      },
      "execution_count": null,
      "outputs": []
    },
    {
      "cell_type": "code",
      "source": [
        "#토큰화 -> 정수화 잘되었는지 확인\n",
        "data_input[0:3]"
      ],
      "metadata": {
        "colab": {
          "base_uri": "https://localhost:8080/"
        },
        "id": "3JMD4SxDEIHv",
        "outputId": "80368583-361b-41f6-9796-f6b96d1efc04"
      },
      "execution_count": null,
      "outputs": [
        {
          "output_type": "execute_result",
          "data": {
            "text/plain": [
              "[[829, 1048, 21, 676, 93, 68, 392],\n",
              " [79, 60, 527, 68, 397, 453],\n",
              " [245, 25, 3360, 916, 492, 58, 380]]"
            ]
          },
          "metadata": {},
          "execution_count": 58
        }
      ]
    },
    {
      "cell_type": "code",
      "source": [
        "#패딩 작업 실시\n",
        "data_ipnut_sequence = pad_sequences(data_input, maxlen=20)"
      ],
      "metadata": {
        "id": "xJ-0Ka4hEgwM"
      },
      "execution_count": null,
      "outputs": []
    },
    {
      "cell_type": "code",
      "source": [
        "#패딩 작업 결과 체킹\n",
        "data_ipnut_sequence[0:3]"
      ],
      "metadata": {
        "colab": {
          "base_uri": "https://localhost:8080/"
        },
        "id": "kor0LQ-dEj8T",
        "outputId": "b89ae8da-2a72-49dc-ce86-97780c3d7bd6"
      },
      "execution_count": null,
      "outputs": [
        {
          "output_type": "execute_result",
          "data": {
            "text/plain": [
              "array([[   0,    0,    0,    0,    0,    0,    0,    0,    0,    0,    0,\n",
              "           0,    0,  829, 1048,   21,  676,   93,   68,  392],\n",
              "       [   0,    0,    0,    0,    0,    0,    0,    0,    0,    0,    0,\n",
              "           0,    0,    0,   79,   60,  527,   68,  397,  453],\n",
              "       [   0,    0,    0,    0,    0,    0,    0,    0,    0,    0,    0,\n",
              "           0,    0,  245,   25, 3360,  916,  492,   58,  380]],\n",
              "      dtype=int32)"
            ]
          },
          "metadata": {},
          "execution_count": 60
        }
      ]
    },
    {
      "cell_type": "code",
      "source": [
        "#텐서플로우 케라스의 인풋은 텐소 or 넘파이 배열을 받는다 따라서 변환 작업 실시\n",
        "data_target = np.array(data['Emotion'])"
      ],
      "metadata": {
        "id": "0SnNyn9V5eRQ"
      },
      "execution_count": null,
      "outputs": []
    },
    {
      "cell_type": "code",
      "source": [
        "#데이터 분할을 위한 패키지 임포트 및 분할 작업 실시, stratify 파라미터를 활용하여, 층화 추출을 통해 데이터가 타겟 값별로 고르게 분포하도록 해야함\n",
        "from sklearn.model_selection import train_test_split\n",
        "\n",
        "train_input, test_input, train_target, test_target = train_test_split(data_ipnut_sequence, data_target, stratify = data_target,\n",
        "                                                                      test_size = 0.2,\n",
        "                                                                      random_state = 1234)"
      ],
      "metadata": {
        "id": "IX7PqMLz4Ci5"
      },
      "execution_count": null,
      "outputs": []
    },
    {
      "cell_type": "code",
      "source": [
        "#임베딩층, 덴스 등 레이어 구축을 위한 패키지 임포트\n",
        "from tensorflow.keras.layers import Embedding, Dense, GRU\n",
        "from tensorflow.keras.models import Sequential"
      ],
      "metadata": {
        "id": "dKmVQAynp-Mb"
      },
      "execution_count": null,
      "outputs": []
    },
    {
      "cell_type": "code",
      "source": [
        "#모델 구축, 임베딩 층은 30차원, 레이어는 5개, GRU 활용(GRU는 LSTM과 비슷한 원리로 작동되며 성능도 비슷하지만 학습소요시간이 짧은 장점을 가짐)\n",
        "#마지막 레이어는 다중분류이기에 소프트 맥스 activation function 활용\n",
        "em_dim = 30\n",
        "\n",
        "model_sementic = Sequential()\n",
        "\n",
        "model_sementic.add(Embedding(24133, em_dim))\n",
        "model_sementic.add(GRU(512, return_sequences=True))\n",
        "model_sementic.add(GRU(256, return_sequences=True))\n",
        "model_sementic.add(GRU(128, return_sequences=True))\n",
        "model_sementic.add(GRU(64, return_sequences=True))\n",
        "model_sementic.add(GRU(32, return_sequences=False))\n",
        "model_sementic.add(Dense(7, activation='Softmax'))"
      ],
      "metadata": {
        "id": "gL76L5CV0Znz"
      },
      "execution_count": null,
      "outputs": []
    },
    {
      "cell_type": "code",
      "source": [
        "#모델 컴파일, 컴파일 시, 얼리스탑 및 콜백 등을 통하여 가중치 저장, 과적합 방지등을 진행할 수 있음\n",
        "#본 실습에서는 딥러닝 활용 워크 플로우를 보여주기 위하여 생략\n",
        "model_sementic.compile(optimizer = 'Adam', loss = 'sparse_categorical_crossentropy', metrics = ['acc'])"
      ],
      "metadata": {
        "id": "_CJFdbvP0xPi"
      },
      "execution_count": null,
      "outputs": []
    },
    {
      "cell_type": "code",
      "source": [
        "#모델 학습 실시, hist로 저장 해두면 검증 세트와 훈련세트의 과정을 시각화 할 수 있음, verbose = 1은 훈련과정을 표기함\n",
        "hist = model_sementic.fit(train_input,train_target, epochs = 30, batch_size = 32, validation_split = 0.2 ,verbose = 1)"
      ],
      "metadata": {
        "colab": {
          "base_uri": "https://localhost:8080/"
        },
        "id": "iTEmX-bi3-44",
        "outputId": "f8cf2fb0-c3bf-46e1-bde4-ef7e9969daa3"
      },
      "execution_count": null,
      "outputs": [
        {
          "output_type": "stream",
          "name": "stdout",
          "text": [
            "Epoch 1/30\n",
            "772/772 [==============================] - 31s 17ms/step - loss: 1.6623 - acc: 0.3221 - val_loss: 1.5136 - val_acc: 0.4071\n",
            "Epoch 2/30\n",
            "772/772 [==============================] - 11s 14ms/step - loss: 1.3319 - acc: 0.4709 - val_loss: 1.4321 - val_acc: 0.4338\n",
            "Epoch 3/30\n",
            "772/772 [==============================] - 11s 14ms/step - loss: 1.0915 - acc: 0.5738 - val_loss: 1.4934 - val_acc: 0.4266\n",
            "Epoch 4/30\n",
            "772/772 [==============================] - 11s 14ms/step - loss: 0.8918 - acc: 0.6650 - val_loss: 1.6196 - val_acc: 0.4317\n",
            "Epoch 5/30\n",
            "772/772 [==============================] - 11s 14ms/step - loss: 0.7183 - acc: 0.7392 - val_loss: 1.7888 - val_acc: 0.4186\n",
            "Epoch 6/30\n",
            "772/772 [==============================] - 11s 15ms/step - loss: 0.5798 - acc: 0.7980 - val_loss: 1.9940 - val_acc: 0.4042\n",
            "Epoch 7/30\n",
            "772/772 [==============================] - 13s 16ms/step - loss: 0.4615 - acc: 0.8453 - val_loss: 2.1128 - val_acc: 0.4096\n",
            "Epoch 8/30\n",
            "772/772 [==============================] - 11s 14ms/step - loss: 0.3724 - acc: 0.8782 - val_loss: 2.3515 - val_acc: 0.4042\n",
            "Epoch 9/30\n",
            "772/772 [==============================] - 13s 16ms/step - loss: 0.3109 - acc: 0.8986 - val_loss: 2.4803 - val_acc: 0.4005\n",
            "Epoch 10/30\n",
            "772/772 [==============================] - 12s 16ms/step - loss: 0.2494 - acc: 0.9223 - val_loss: 2.6448 - val_acc: 0.3997\n",
            "Epoch 11/30\n",
            "772/772 [==============================] - 12s 15ms/step - loss: 0.2237 - acc: 0.9279 - val_loss: 2.7840 - val_acc: 0.3900\n",
            "Epoch 12/30\n",
            "772/772 [==============================] - 12s 15ms/step - loss: 0.1938 - acc: 0.9381 - val_loss: 2.8652 - val_acc: 0.3929\n",
            "Epoch 13/30\n",
            "772/772 [==============================] - 11s 15ms/step - loss: 0.1641 - acc: 0.9483 - val_loss: 2.9168 - val_acc: 0.3992\n",
            "Epoch 14/30\n",
            "772/772 [==============================] - 12s 15ms/step - loss: 0.1438 - acc: 0.9533 - val_loss: 3.1403 - val_acc: 0.3929\n",
            "Epoch 15/30\n",
            "772/772 [==============================] - 11s 15ms/step - loss: 0.1315 - acc: 0.9576 - val_loss: 3.1617 - val_acc: 0.3908\n",
            "Epoch 16/30\n",
            "772/772 [==============================] - 11s 14ms/step - loss: 0.1123 - acc: 0.9635 - val_loss: 3.4143 - val_acc: 0.3937\n",
            "Epoch 17/30\n",
            "772/772 [==============================] - 12s 15ms/step - loss: 0.1038 - acc: 0.9655 - val_loss: 3.3642 - val_acc: 0.3958\n",
            "Epoch 18/30\n",
            "772/772 [==============================] - 11s 14ms/step - loss: 0.0917 - acc: 0.9706 - val_loss: 3.5806 - val_acc: 0.3981\n",
            "Epoch 19/30\n",
            "772/772 [==============================] - 11s 15ms/step - loss: 0.0903 - acc: 0.9715 - val_loss: 3.6237 - val_acc: 0.3960\n",
            "Epoch 20/30\n",
            "772/772 [==============================] - 12s 15ms/step - loss: 0.0823 - acc: 0.9747 - val_loss: 3.7023 - val_acc: 0.3960\n",
            "Epoch 21/30\n",
            "772/772 [==============================] - 11s 14ms/step - loss: 0.0740 - acc: 0.9766 - val_loss: 3.7450 - val_acc: 0.3953\n",
            "Epoch 22/30\n",
            "772/772 [==============================] - 11s 14ms/step - loss: 0.0702 - acc: 0.9772 - val_loss: 3.7695 - val_acc: 0.3916\n",
            "Epoch 23/30\n",
            "772/772 [==============================] - 12s 15ms/step - loss: 0.0632 - acc: 0.9790 - val_loss: 3.9999 - val_acc: 0.3945\n",
            "Epoch 24/30\n",
            "772/772 [==============================] - 11s 15ms/step - loss: 0.0633 - acc: 0.9794 - val_loss: 3.8696 - val_acc: 0.3930\n",
            "Epoch 25/30\n",
            "772/772 [==============================] - 12s 15ms/step - loss: 0.0612 - acc: 0.9799 - val_loss: 3.9353 - val_acc: 0.3958\n",
            "Epoch 26/30\n",
            "772/772 [==============================] - 11s 15ms/step - loss: 0.0621 - acc: 0.9789 - val_loss: 3.9525 - val_acc: 0.3971\n",
            "Epoch 27/30\n",
            "772/772 [==============================] - 11s 15ms/step - loss: 0.0557 - acc: 0.9817 - val_loss: 3.9856 - val_acc: 0.3945\n",
            "Epoch 28/30\n",
            "772/772 [==============================] - 11s 15ms/step - loss: 0.0399 - acc: 0.9864 - val_loss: 4.1783 - val_acc: 0.3937\n",
            "Epoch 29/30\n",
            "772/772 [==============================] - 11s 14ms/step - loss: 0.0462 - acc: 0.9853 - val_loss: 4.2324 - val_acc: 0.3932\n",
            "Epoch 30/30\n",
            "772/772 [==============================] - 11s 14ms/step - loss: 0.0485 - acc: 0.9849 - val_loss: 4.0798 - val_acc: 0.3901\n"
          ]
        }
      ]
    },
    {
      "cell_type": "code",
      "source": [
        "#훈련과정 시각화 (정확도 기준)\n",
        "plt.plot(hist.history['acc'])\n",
        "plt.plot(hist.history['val_acc'])\n",
        "plt.title('Check the Overfitting')\n",
        "plt.xlabel('Epochs')\n",
        "plt.ylabel('Acc')\n",
        "plt.legend(['Train', 'Validation'], loc = 'upper right')\n",
        "plt.show()"
      ],
      "metadata": {
        "colab": {
          "base_uri": "https://localhost:8080/",
          "height": 295
        },
        "id": "ksnRI6ytaSLF",
        "outputId": "63c60295-cdbc-4a5d-cfef-eb29040dac42"
      },
      "execution_count": null,
      "outputs": [
        {
          "output_type": "display_data",
          "data": {
            "text/plain": [
              "<Figure size 432x288 with 1 Axes>"
            ],
            "image/png": "[encoded data removed]"
          },
          "metadata": {
            "needs_background": "light"
          }
        }
      ]
    },
    {
      "cell_type": "code",
      "source": [
        "#훈련과정 시각화 (손실 기준)\n",
        "plt.plot(hist.history['loss'])\n",
        "plt.plot(hist.history['val_loss'])\n",
        "plt.title('Check the Overfitting')\n",
        "plt.xlabel('Epochs')\n",
        "plt.ylabel('Loss')\n",
        "plt.legend(['Train', 'Validation'], loc = 'upper right')\n",
        "plt.show()"
      ],
      "metadata": {
        "colab": {
          "base_uri": "https://localhost:8080/",
          "height": 295
        },
        "id": "ItSxaVe5axgZ",
        "outputId": "1e6c650e-5192-4784-b19d-4baaf0e1dbc2"
      },
      "execution_count": null,
      "outputs": [
        {
          "output_type": "display_data",
          "data": {
            "text/plain": [
              "<Figure size 432x288 with 1 Axes>"
            ],
            "image/png": "[encoded data removed]"
          },
          "metadata": {
            "needs_background": "light"
          }
        }
      ]
    },
    {
      "cell_type": "code",
      "source": [
        "print(\"\\n 테스트 정확도: %.4f\" % (model_sementic.evaluate(test_input, test_target)[1]))"
      ],
      "metadata": {
        "colab": {
          "base_uri": "https://localhost:8080/"
        },
        "id": "F00rjlXb5CDD",
        "outputId": "4e79532b-9943-4786-f0b5-a976814af778"
      },
      "execution_count": null,
      "outputs": [
        {
          "output_type": "stream",
          "name": "stdout",
          "text": [
            "242/242 [==============================] - 1s 6ms/step - loss: 4.0651 - acc: 0.3823\n",
            "\n",
            " 테스트 정확도: 0.3823\n"
          ]
        }
      ]
    },
    {
      "cell_type": "markdown",
      "source": [],
      "metadata": {
        "id": "YXExbVC4fXyK"
      }
    },
    {
      "cell_type": "markdown",
      "source": [
        "보통 감성분석을 진행하는 데이터는 NSMC(Naver Sementic Movie Comment)로 진행을 하는데 이번에는 NIA에서 공개한 데이터(**한국어 감정 정보가 포함된 단발성 대화 데이터셋**)를 활용하였습니다. 보통 NSMC로 진행하였을 때는 이진분류이며 데이터 양도 많아서 모델 성능이 높게 나오는데. 현재 진행한 실습에서는 생각보다 모델 결과 값이 실망스럽다. 배치정규화 등을 통해서 성능을 더 높일수는 있지만 근본적인 원인은 따로 있다고 생각이 들었다. 그 이유로는 개인적으로 생각했을 때 데이터 양의 문제라기 보다는 데이터 품질의 문제이다!\n",
        "보시는 것 처럼 공포라는 라벨링에 맞지 않는 데이터이며 오히려 2번째 문장은 중립에 맞지 않을 까? 하는 생각이 드네요... 라벨링을 다시해서 진행한다면 지금 모델의 성능보다 더 좋은 값을 도출할 수 있을거라 생각이 든다.\n",
        "\n",
        "\n",
        "\n",
        "\n",
        "![니아데이터셋.png](data:image/png;base64,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)"
      ],
      "metadata": {
        "id": "nUFUGkDJbEMw"
      }
    }
  ]
}